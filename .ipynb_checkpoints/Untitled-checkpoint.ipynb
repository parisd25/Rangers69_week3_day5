{
 "cells": [
  {
   "cell_type": "code",
   "execution_count": 11,
   "metadata": {},
   "outputs": [],
   "source": [
    "# Income\n",
    "# Expenses\n",
    "\n",
    "class rent():\n",
    "    \n",
    "    def __init__(self):\n",
    "        pass\n",
    "    \n",
    "    def Income(self):  \n",
    "        pass\n",
    "\n",
    "    def retrieve(self):\n",
    "        pass\n",
    "    \n",
    "    def calculate(self):\n",
    "        pass"
   ]
  },
  {
   "cell_type": "code",
   "execution_count": 13,
   "metadata": {},
   "outputs": [
    {
     "name": "stdout",
     "output_type": "stream",
     "text": [
      "430.0\n"
     ]
    }
   ],
   "source": [
    "Income = 2000\n",
    "Rent = 800\n",
    "Cash_flow =1000\n",
    "\n",
    "def ROI(Income, Rent, Cash_flow):\n",
    "    NetProfit = Rent * 12 - Cash_flow\n",
    "    ROI = (NetProfit/Income) * 100\n",
    "    print(ROI)\n",
    "    \n",
    "ROI(Income, Rent, Cash_flow)"
   ]
  }
 ],
 "metadata": {
  "kernelspec": {
   "display_name": "Python 3",
   "language": "python",
   "name": "python3"
  },
  "language_info": {
   "codemirror_mode": {
    "name": "ipython",
    "version": 3
   },
   "file_extension": ".py",
   "mimetype": "text/x-python",
   "name": "python",
   "nbconvert_exporter": "python",
   "pygments_lexer": "ipython3",
   "version": "3.8.5"
  }
 },
 "nbformat": 4,
 "nbformat_minor": 4
}
